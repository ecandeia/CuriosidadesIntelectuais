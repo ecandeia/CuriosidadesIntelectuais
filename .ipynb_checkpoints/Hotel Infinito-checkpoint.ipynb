{
 "cells": [
  {
   "cell_type": "markdown",
   "id": "517f8dc6",
   "metadata": {},
   "source": [
    "## Hotel Infinito\n",
    "\n",
    "Em 1924 o matemático alemão David Hilbert apresentou o Paradóxo do Hotel, ou Hotel Infinito, como uma forma de pensar sobre o infinito.\n",
    "\n",
    "Considere um hotel com um número infinito de quartos. Para acomodar um novo hóspede, o gerente ordena que cada ocupante de um quarto mude para o quarto seguinte, ou seja, o hóspede do quarto 1 vai para o quarto, o do quarto 2 para o 3 e assim por diante. Agora o quarto 1 está dispoível para o no hóspede.\n",
    "\n",
    "Caso cheguem $k$ hóspedes, o gerente pode seguir a mesma lógica, solicitando que o ocupante do quarto $n$ se mude para o quato $n+k$, e com isso estarão disponíveis $k$ quartos para o novos hóspedes.\n",
    "\n",
    "Em outra situação, chega um ônibus com uma quantidade inifinita de passageiros. O gerente neste caso solicita que cada hóspede se mude para o quarto com númer duas vezes o que está ocupando. Assim, o ocupante do quarto 1 vai para o 2, o do qurto 3 para o 6 e assim sucessivamente. Após todas as trocas haverá uma quantidade infinita de quartos disponíveis, justamente os que tem numeração ímpar.\n",
    "\n",
    "Agora, considere que o gerente tenha somente 1 (um) minutos para fazer a verificação de todos os quartos. Para tanto ele pode seguir a lógica de usar os primeiros 30 segundos no primeiro quarto, depois 15 segundos no segundo quarto, 7,5 segundos no terceiro e assim sucessivamente sempre usando metade do tempo restante. A some dos tempos pode ser representada pela soma das frações\n",
    "\n",
    "$$\\frac{1}{2} + \\frac{1}{4} + \\frac{1}{8} + \\frac{1}{16} + .... = 1$$\n",
    "\n",
    "Ou sejam levará 1 minuto para visitar todos os quartos.\n",
    "\n",
    "Há outras variações para o problema, como a chegada de uma quantidade infinita de ônibus cada um com infinitos passageiros, que usando a unicidade dos números primos permite que todos sejam alocados.\n",
    "\n",
    "Mais informação em\n",
    "1. https://pt.wikipedia.org/wiki/Hotel_de_Hilbert"
   ]
  },
  {
   "cell_type": "code",
   "execution_count": null,
   "id": "925b2df0",
   "metadata": {},
   "outputs": [],
   "source": []
  }
 ],
 "metadata": {
  "kernelspec": {
   "display_name": "Python 3 (ipykernel)",
   "language": "python",
   "name": "python3"
  },
  "language_info": {
   "codemirror_mode": {
    "name": "ipython",
    "version": 3
   },
   "file_extension": ".py",
   "mimetype": "text/x-python",
   "name": "python",
   "nbconvert_exporter": "python",
   "pygments_lexer": "ipython3",
   "version": "3.8.2"
  }
 },
 "nbformat": 4,
 "nbformat_minor": 5
}
